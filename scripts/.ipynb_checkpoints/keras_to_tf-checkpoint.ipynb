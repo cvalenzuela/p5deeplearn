{
 "cells": [
  {
   "cell_type": "markdown",
   "metadata": {},
   "source": [
    "### Take keras models and get tensorflow checkpoints\n",
    "Taken from https://github.com/amir-abdi/keras_to_tensorflow/blob/master/keras_to_tensorflow.ipynb"
   ]
  },
  {
   "cell_type": "code",
   "execution_count": 2,
   "metadata": {
    "collapsed": false
   },
   "outputs": [
    {
     "name": "stderr",
     "output_type": "stream",
     "text": [
      "Using TensorFlow backend.\n"
     ]
    }
   ],
   "source": [
    "from keras.models import load_model\n",
    "import tensorflow as tf\n",
    "import os\n",
    "import os.path as osp\n",
    "from keras import backend as K"
   ]
  },
  {
   "cell_type": "code",
   "execution_count": 4,
   "metadata": {
    "collapsed": true
   },
   "outputs": [],
   "source": [
    "# Set parameters\n",
    "input_fld = 'models'\n",
    "weight_file = 'hamlet.h5'\n",
    "num_output = 1\n",
    "write_graph_def_ascii_flag = True\n",
    "prefix_output_node_names_of_final_network = 'output_node'\n",
    "output_graph_name = 'constant_graph_weights.pb'\n",
    "\n",
    "output_fld = input_fld + 'tensorflow_models/'\n",
    "if not os.path.isdir(output_fld):\n",
    "    os.mkdir(output_fld)"
   ]
  },
  {
   "cell_type": "code",
   "execution_count": null,
   "metadata": {
    "collapsed": true
   },
   "outputs": [],
   "source": [
    "\n",
    "\n"
   ]
  }
 ],
 "metadata": {
  "kernelspec": {
   "display_name": "Python 3",
   "language": "python",
   "name": "python3"
  },
  "language_info": {
   "codemirror_mode": {
    "name": "ipython",
    "version": 3
   },
   "file_extension": ".py",
   "mimetype": "text/x-python",
   "name": "python",
   "nbconvert_exporter": "python",
   "pygments_lexer": "ipython3",
   "version": "3.6.0"
  }
 },
 "nbformat": 4,
 "nbformat_minor": 2
}
